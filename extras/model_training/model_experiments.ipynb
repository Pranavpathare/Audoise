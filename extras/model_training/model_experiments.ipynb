{
 "cells": [
  {
   "cell_type": "markdown",
   "metadata": {},
   "source": [
    "# Challenge"
   ]
  },
  {
   "cell_type": "raw",
   "metadata": {},
   "source": [
    "Requirement\n",
    "Evaluate audio clips of conversation between a call center agent and a customer\n",
    "and classify the emotions / sentiments of both the individuals\n",
    "into seven categories namely:\n",
    "\n",
    "<<Happy>>\n",
    "<<Sad>>\n",
    "<<Disgusted>>\n",
    "<<Fearful>>\n",
    "<<Surprised>>\n",
    "<<Angry>>\n",
    "<<Neutral>>"
   ]
  },
  {
   "cell_type": "code",
   "execution_count": 1,
   "metadata": {},
   "outputs": [
    {
     "name": "stderr",
     "output_type": "stream",
     "text": [
      "C:\\Users\\admin\\Anaconda3\\lib\\site-packages\\pydub\\utils.py:165: RuntimeWarning: Couldn't find ffmpeg or avconv - defaulting to ffmpeg, but may not work\n",
      "  warn(\"Couldn't find ffmpeg or avconv - defaulting to ffmpeg, but may not work\", RuntimeWarning)\n",
      "Using TensorFlow backend.\n"
     ]
    },
    {
     "name": "stdout",
     "output_type": "stream",
     "text": [
      "WARNING:tensorflow:From C:\\Users\\admin\\Anaconda3\\lib\\site-packages\\keras\\backend\\tensorflow_backend.py:4070: The name tf.nn.max_pool is deprecated. Please use tf.nn.max_pool2d instead.\n",
      "\n",
      "WARNING:tensorflow:From C:\\Users\\admin\\Anaconda3\\lib\\site-packages\\keras\\backend\\tensorflow_backend.py:422: The name tf.global_variables is deprecated. Please use tf.compat.v1.global_variables instead.\n",
      "\n"
     ]
    }
   ],
   "source": [
    "from MgSO4 import main"
   ]
  },
  {
   "cell_type": "markdown",
   "metadata": {},
   "source": [
    "# Enter Folder Path Here"
   ]
  },
  {
   "cell_type": "raw",
   "metadata": {},
   "source": [
    "path = 'E:/Hackathon_Data/'Format of files within folders - .wav\n",
    "Example: '../../HACKATHON/data'\n",
    "The folder must contain the wav files."
   ]
  },
  {
   "cell_type": "code",
   "execution_count": null,
   "metadata": {},
   "outputs": [],
   "source": [
    "path = 'E:/Hackathon_Data/'"
   ]
  },
  {
   "cell_type": "code",
   "execution_count": 8,
   "metadata": {},
   "outputs": [],
   "source": [
    "path_english=path+\"English\"\n",
    "path_hindi=path+\"Hindi\"\n",
    "path_telugu=path+\"Telugu\"\n",
    "\n",
    "print(\"English\")\n",
    "main(path_english,language_id=1)\n",
    "\n",
    "print(\"Hindi\")\n",
    "main(path_hindi,  language_id=2)\n",
    "\n",
    "print(\"Telugu\")\n",
    "main(path_telugu, language_id=3)"
   ]
  },
  {
   "cell_type": "code",
   "execution_count": null,
   "metadata": {},
   "outputs": [
    {
     "name": "stdout",
     "output_type": "stream",
     "text": [
      "Processing Audio file: RID17_P187256_TMI_PUNE_6187256_07172019_162420_000023_0.wav\n",
      "Processing Data\n",
      "Fetching Predictions\n",
      "person01: Neutral\n",
      "person02: Neutral\n",
      "\n",
      "Processing Audio file: RID36_P184671_TMI_PTM_6184671_07162019_091305_000158_0.wav\n",
      "Processing Data\n",
      "Fetching Predictions\n",
      "person01: Neutral\n",
      "person02: Neutral\n",
      "\n",
      "Processing Audio file: RID36_P86773_TMI_PTM_586773_07172019_071405_000015_0.wav\n",
      "Processing Data\n",
      "Fetching Predictions\n",
      "person01: Fear\n",
      "person02: Neutral\n",
      "\n",
      "Processing Audio file: Rid37_p147209_tmi_ptm_6147209_07112019_053128_000236_0.wav\n",
      "Processing Data\n",
      "Fetching Predictions\n",
      "person01: Neutral\n",
      "person02: Neutral\n",
      "\n",
      "Processing Audio file: Rid37_p86773_tmi_ptm_586773_07042019_101411_000345_0.wav\n",
      "Processing Data\n",
      "Fetching Predictions\n",
      "person01: Disgust\n",
      "person02: Disgust\n",
      "\n",
      "CSV file Created\n",
      "Processing Audio file: RID14_P104694_TMI_PTM_6104694_07172019_112714_001919_5.00.wav\n",
      "Processing Data\n",
      "Fetching Predictions\n",
      "person01: Neutral\n",
      "person02: Neutral\n",
      "\n",
      "Processing Audio file: RID14_P153234_TMI_PTM_6153234_07092019_155906_000435_0.wav\n",
      "Processing Data\n",
      "Fetching Predictions\n",
      "person01: Neutral\n",
      "person02: Neutral\n",
      "\n",
      "Processing Audio file: RID36_P104694_TMI_PTM_6104694_07172019_082845_000106_5.00.wav\n",
      "Processing Data\n",
      "Fetching Predictions\n",
      "person01: Neutral\n",
      "person02: Anger\n",
      "\n",
      "Processing Audio file: RID36_P104694_TMI_PTM_6104694_07172019_152726_001531_5.00.wav\n",
      "Processing Data\n",
      "Fetching Predictions\n",
      "person01: Neutral\n",
      "person02: Neutral\n",
      "\n",
      "Processing Audio file: Rid37_p135680_tmi_ptm_6135680_07112019_140221_000129_5.00.wav\n",
      "Processing Data\n",
      "Fetching Predictions\n",
      "person01: Neutral\n",
      "person02: Neutral\n",
      "\n",
      "Processing Audio file: Rid37_p168154_tmi_ptm_6168154_07112019_153259_000221_0.wav\n",
      "Processing Data\n",
      "Fetching Predictions\n",
      "person01: Neutral\n",
      "person02: Disgust\n",
      "\n",
      "CSV file Created\n",
      "Processing Audio file: RID33_P211102_TMI_PTM_6211102_07072019_125810_000756_0.wav\n",
      "Processing Data\n",
      "Fetching Predictions\n",
      "person01: Neutral\n",
      "person02: Neutral\n",
      "\n",
      "Processing Audio file: RID36_P214880_TMI_PTM_6214880_07072019_120522_000350_0.wav\n",
      "Processing Data\n",
      "Fetching Predictions\n",
      "person01: Neutral\n",
      "person02: Neutral\n",
      "\n",
      "Processing Audio file: Rid37_p163991_tmi_ptm_6163991_07022019_083350_000707_5.00.wav\n",
      "Processing Data\n",
      "Fetching Predictions\n"
     ]
    }
   ],
   "source": []
  },
  {
   "cell_type": "code",
   "execution_count": null,
   "metadata": {},
   "outputs": [],
   "source": []
  }
 ],
 "metadata": {
  "kernelspec": {
   "display_name": "Python 3",
   "language": "python",
   "name": "python3"
  },
  "language_info": {
   "codemirror_mode": {
    "name": "ipython",
    "version": 3
   },
   "file_extension": ".py",
   "mimetype": "text/x-python",
   "name": "python",
   "nbconvert_exporter": "python",
   "pygments_lexer": "ipython3",
   "version": "3.7.3"
  }
 },
 "nbformat": 4,
 "nbformat_minor": 2
}
